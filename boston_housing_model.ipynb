{
  "nbformat": 4,
  "nbformat_minor": 0,
  "metadata": {
    "colab": {
      "provenance": [],
      "authorship_tag": "ABX9TyPkIz0auA6ZjJwx9NmCU4zq",
      "include_colab_link": true
    },
    "kernelspec": {
      "name": "python3",
      "display_name": "Python 3"
    },
    "language_info": {
      "name": "python"
    }
  },
  "cells": [
    {
      "cell_type": "markdown",
      "metadata": {
        "id": "view-in-github",
        "colab_type": "text"
      },
      "source": [
        "<a href=\"https://colab.research.google.com/github/DayanHafeez/Boston-Housing-Model/blob/main/boston_housing_model.ipynb\" target=\"_parent\"><img src=\"https://colab.research.google.com/assets/colab-badge.svg\" alt=\"Open In Colab\"/></a>"
      ]
    },
    {
      "cell_type": "markdown",
      "source": [
        "# Creating a Model for Boston Housing Data set from Keras\n"
      ],
      "metadata": {
        "id": "PJen9fXioLKP"
      }
    },
    {
      "cell_type": "markdown",
      "source": [
        "You can view the Dataset on this website: [Boston Housing Dataset](https://lib.stat.cmu.edu/datasets/boston)\n",
        "\n",
        "Firstly, I'll preprocess the data, we'll normalizing the data using `MinMaxScaler()`\n",
        "All columns except a CHAS and MEDV are Normalized.\n",
        "\n",
        "\n"
      ],
      "metadata": {
        "id": "PD0JVAZkozco"
      }
    },
    {
      "cell_type": "code",
      "execution_count": 15,
      "metadata": {
        "id": "OmdAHinzn8bu"
      },
      "outputs": [],
      "source": [
        "# Preprocessing the data (normalizing or standardization)\n",
        "from sklearn.compose import make_column_transformer  # for making a multistep data processing function for the transformations you need\n",
        "from sklearn.preprocessing import MinMaxScaler\n",
        "from sklearn.model_selection import train_test_split\n",
        "import tensorflow as tf\n",
        "\n",
        "\n",
        "\n",
        "ct = make_column_transformer(\n",
        "    (MinMaxScaler(), [0,1,2,4,5,6,7,8,9,10,12,11]) # normalizing data\n",
        ")\n",
        "\n",
        "(b_x_train, b_y_train), (b_x_test, b_y_test) = tf.keras.datasets.boston_housing.load_data( test_split=0.2, seed=113)\n",
        "ct.fit(b_x_train)\n",
        "\n",
        "# Transform training and test data with normalization (MinMaxScalar) and one hot encoding (OneHotEncoder)\n",
        "b_x_train_normal = ct.transform(b_x_train)\n",
        "b_x_test_normal = ct.transform(b_x_test)"
      ]
    },
    {
      "cell_type": "markdown",
      "source": [
        "**Creating the Model**"
      ],
      "metadata": {
        "id": "UIUtm70nqzjW"
      }
    },
    {
      "cell_type": "code",
      "source": [
        "tf.random.set_seed(42)\n",
        "\n",
        "# creating the model\n",
        "boston_model = tf.keras.Sequential([\n",
        "    tf.keras.layers.Dense(100),\n",
        "    tf.keras.layers.Dense(100),\n",
        "    tf.keras.layers.Dense(50),\n",
        "    tf.keras.layers.Dense(1)\n",
        "])\n",
        "\n",
        "# compiling the model\n",
        "boston_model.compile(\n",
        "    loss = tf.keras.losses.mae,\n",
        "    optimizer = tf.keras.optimizers.Adam(),\n",
        "    metrics=[tf.keras.losses.mae]\n",
        ")\n",
        "\n",
        "boston_history = boston_model.fit(b_x_train_normal,b_y_train, epochs=100, verbose=0)"
      ],
      "metadata": {
        "id": "wuOpkfdwq70N"
      },
      "execution_count": 16,
      "outputs": []
    },
    {
      "cell_type": "markdown",
      "source": [
        "Plotting the Loss vs Epochs Plot"
      ],
      "metadata": {
        "id": "bRLCH_IDrJEV"
      }
    },
    {
      "cell_type": "code",
      "source": [
        "import pandas as pd\n",
        "import matplotlib.pyplot as plt\n",
        "\n",
        "pd.DataFrame(boston_history.history).plot()\n",
        "plt.xlabel(\"epochs\")\n",
        "plt.ylabel(\"loss\")"
      ],
      "metadata": {
        "colab": {
          "base_uri": "https://localhost:8080/",
          "height": 466
        },
        "id": "2VXQVYa2rNWJ",
        "outputId": "faa8c476-ed85-45a2-a9cb-347b5ad773ff"
      },
      "execution_count": 17,
      "outputs": [
        {
          "output_type": "execute_result",
          "data": {
            "text/plain": [
              "Text(0, 0.5, 'loss')"
            ]
          },
          "metadata": {},
          "execution_count": 17
        },
        {
          "output_type": "display_data",
          "data": {
            "text/plain": [
              "<Figure size 640x480 with 1 Axes>"
            ],
            "image/png": "[encoded data removed]"
          },
          "metadata": {}
        }
      ]
    },
    {
      "cell_type": "markdown",
      "source": [
        "Evaluating the model on test data"
      ],
      "metadata": {
        "id": "9dPqjfvCrQWd"
      }
    },
    {
      "cell_type": "code",
      "source": [
        "boston_model.evaluate(b_x_test_normal,b_y_test)"
      ],
      "metadata": {
        "colab": {
          "base_uri": "https://localhost:8080/"
        },
        "id": "9O8zVaXkrTwE",
        "outputId": "c54f769f-93dc-437e-81de-f3623b00a8d4"
      },
      "execution_count": 18,
      "outputs": [
        {
          "output_type": "stream",
          "name": "stdout",
          "text": [
            "\u001b[1m4/4\u001b[0m \u001b[32m━━━━━━━━━━━━━━━━━━━━\u001b[0m\u001b[37m\u001b[0m \u001b[1m0s\u001b[0m 4ms/step - loss: 2.9357 - mean_absolute_error: 2.9357  \n"
          ]
        },
        {
          "output_type": "execute_result",
          "data": {
            "text/plain": [
              "[3.123077392578125, 3.123077392578125]"
            ]
          },
          "metadata": {},
          "execution_count": 18
        }
      ]
    }
  ]
}